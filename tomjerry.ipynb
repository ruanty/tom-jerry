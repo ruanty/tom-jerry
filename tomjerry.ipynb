{
 "cells": [
  {
   "cell_type": "code",
   "execution_count": 1,
   "id": "876f5a72",
   "metadata": {
    "execution": {
     "iopub.execute_input": "2022-06-28T22:17:04.115211Z",
     "iopub.status.busy": "2022-06-28T22:17:04.114816Z",
     "iopub.status.idle": "2022-06-28T22:17:05.655725Z",
     "shell.execute_reply": "2022-06-28T22:17:05.655178Z",
     "shell.execute_reply.started": "2022-06-28T22:17:04.115145Z"
    },
    "tags": []
   },
   "outputs": [],
   "source": [
    "import numpy as np\n",
    "import pandas as pd\n",
    "import torch\n",
    "from torch.utils.data import Dataset\n",
    "from torch.utils.data import DataLoader\n",
    "import torch.nn as nn\n",
    "import torch.optim as optim\n",
    "\n",
    "import torchvision\n",
    "import cv2\n",
    "\n",
    "from tqdm.notebook import tqdm\n",
    "import matplotlib.pyplot as plt"
   ]
  },
  {
   "cell_type": "markdown",
   "id": "c5ac22d5-c5a0-499d-9c62-7ccb48bbd29f",
   "metadata": {
    "tags": []
   },
   "source": [
    "# 0. Import Data"
   ]
  },
  {
   "cell_type": "code",
   "execution_count": 2,
   "id": "8b07c687",
   "metadata": {
    "execution": {
     "iopub.execute_input": "2022-06-28T22:17:05.657451Z",
     "iopub.status.busy": "2022-06-28T22:17:05.656980Z",
     "iopub.status.idle": "2022-06-28T22:17:05.669437Z",
     "shell.execute_reply": "2022-06-28T22:17:05.668827Z",
     "shell.execute_reply.started": "2022-06-28T22:17:05.657418Z"
    },
    "tags": []
   },
   "outputs": [
    {
     "data": {
      "text/html": [
       "<div>\n",
       "<style scoped>\n",
       "    .dataframe tbody tr th:only-of-type {\n",
       "        vertical-align: middle;\n",
       "    }\n",
       "\n",
       "    .dataframe tbody tr th {\n",
       "        vertical-align: top;\n",
       "    }\n",
       "\n",
       "    .dataframe thead th {\n",
       "        text-align: right;\n",
       "    }\n",
       "</style>\n",
       "<table border=\"1\" class=\"dataframe\">\n",
       "  <thead>\n",
       "    <tr style=\"text-align: right;\">\n",
       "      <th></th>\n",
       "      <th>folder</th>\n",
       "      <th>image_name</th>\n",
       "    </tr>\n",
       "  </thead>\n",
       "  <tbody>\n",
       "    <tr>\n",
       "      <th>0</th>\n",
       "      <td>jerry</td>\n",
       "      <td>frame360.jpg</td>\n",
       "    </tr>\n",
       "    <tr>\n",
       "      <th>1</th>\n",
       "      <td>jerry</td>\n",
       "      <td>frame1794.jpg</td>\n",
       "    </tr>\n",
       "    <tr>\n",
       "      <th>2</th>\n",
       "      <td>jerry</td>\n",
       "      <td>frame1795.jpg</td>\n",
       "    </tr>\n",
       "    <tr>\n",
       "      <th>3</th>\n",
       "      <td>jerry</td>\n",
       "      <td>frame2231.jpg</td>\n",
       "    </tr>\n",
       "    <tr>\n",
       "      <th>4</th>\n",
       "      <td>jerry</td>\n",
       "      <td>frame2234.jpg</td>\n",
       "    </tr>\n",
       "  </tbody>\n",
       "</table>\n",
       "</div>"
      ],
      "text/plain": [
       "  folder     image_name\n",
       "0  jerry   frame360.jpg\n",
       "1  jerry  frame1794.jpg\n",
       "2  jerry  frame1795.jpg\n",
       "3  jerry  frame2231.jpg\n",
       "4  jerry  frame2234.jpg"
      ]
     },
     "execution_count": 2,
     "metadata": {},
     "output_type": "execute_result"
    }
   ],
   "source": [
    "challenges = pd.read_csv('data/challenges.csv')\n",
    "challenges.head()"
   ]
  },
  {
   "cell_type": "code",
   "execution_count": 3,
   "id": "6ff4c1ed",
   "metadata": {
    "execution": {
     "iopub.execute_input": "2022-06-28T22:17:05.670758Z",
     "iopub.status.busy": "2022-06-28T22:17:05.670388Z",
     "iopub.status.idle": "2022-06-28T22:17:07.015126Z",
     "shell.execute_reply": "2022-06-28T22:17:07.014436Z",
     "shell.execute_reply.started": "2022-06-28T22:17:05.670727Z"
    },
    "tags": []
   },
   "outputs": [
    {
     "data": {
      "text/html": [
       "<div>\n",
       "<style scoped>\n",
       "    .dataframe tbody tr th:only-of-type {\n",
       "        vertical-align: middle;\n",
       "    }\n",
       "\n",
       "    .dataframe tbody tr th {\n",
       "        vertical-align: top;\n",
       "    }\n",
       "\n",
       "    .dataframe thead th {\n",
       "        text-align: right;\n",
       "    }\n",
       "</style>\n",
       "<table border=\"1\" class=\"dataframe\">\n",
       "  <thead>\n",
       "    <tr style=\"text-align: right;\">\n",
       "      <th></th>\n",
       "      <th>filename</th>\n",
       "      <th>tom</th>\n",
       "      <th>jerry</th>\n",
       "      <th>filepath</th>\n",
       "      <th>label</th>\n",
       "    </tr>\n",
       "  </thead>\n",
       "  <tbody>\n",
       "    <tr>\n",
       "      <th>0</th>\n",
       "      <td>frame0.jpg</td>\n",
       "      <td>0</td>\n",
       "      <td>0</td>\n",
       "      <td>data/all_pics/frame0.jpg</td>\n",
       "      <td>0</td>\n",
       "    </tr>\n",
       "    <tr>\n",
       "      <th>1</th>\n",
       "      <td>frame1.jpg</td>\n",
       "      <td>0</td>\n",
       "      <td>0</td>\n",
       "      <td>data/all_pics/frame1.jpg</td>\n",
       "      <td>0</td>\n",
       "    </tr>\n",
       "    <tr>\n",
       "      <th>2</th>\n",
       "      <td>frame2.jpg</td>\n",
       "      <td>0</td>\n",
       "      <td>0</td>\n",
       "      <td>data/all_pics/frame2.jpg</td>\n",
       "      <td>0</td>\n",
       "    </tr>\n",
       "    <tr>\n",
       "      <th>3</th>\n",
       "      <td>frame3.jpg</td>\n",
       "      <td>0</td>\n",
       "      <td>0</td>\n",
       "      <td>data/all_pics/frame3.jpg</td>\n",
       "      <td>0</td>\n",
       "    </tr>\n",
       "    <tr>\n",
       "      <th>4</th>\n",
       "      <td>frame4.jpg</td>\n",
       "      <td>0</td>\n",
       "      <td>0</td>\n",
       "      <td>data/all_pics/frame4.jpg</td>\n",
       "      <td>0</td>\n",
       "    </tr>\n",
       "    <tr>\n",
       "      <th>...</th>\n",
       "      <td>...</td>\n",
       "      <td>...</td>\n",
       "      <td>...</td>\n",
       "      <td>...</td>\n",
       "      <td>...</td>\n",
       "    </tr>\n",
       "    <tr>\n",
       "      <th>5473</th>\n",
       "      <td>frame5473.jpg</td>\n",
       "      <td>0</td>\n",
       "      <td>0</td>\n",
       "      <td>data/all_pics/frame5473.jpg</td>\n",
       "      <td>0</td>\n",
       "    </tr>\n",
       "    <tr>\n",
       "      <th>5474</th>\n",
       "      <td>frame5474.jpg</td>\n",
       "      <td>0</td>\n",
       "      <td>0</td>\n",
       "      <td>data/all_pics/frame5474.jpg</td>\n",
       "      <td>0</td>\n",
       "    </tr>\n",
       "    <tr>\n",
       "      <th>5475</th>\n",
       "      <td>frame5475.jpg</td>\n",
       "      <td>0</td>\n",
       "      <td>0</td>\n",
       "      <td>data/all_pics/frame5475.jpg</td>\n",
       "      <td>0</td>\n",
       "    </tr>\n",
       "    <tr>\n",
       "      <th>5476</th>\n",
       "      <td>frame5476.jpg</td>\n",
       "      <td>0</td>\n",
       "      <td>0</td>\n",
       "      <td>data/all_pics/frame5476.jpg</td>\n",
       "      <td>0</td>\n",
       "    </tr>\n",
       "    <tr>\n",
       "      <th>5477</th>\n",
       "      <td>frame5477.jpg</td>\n",
       "      <td>0</td>\n",
       "      <td>0</td>\n",
       "      <td>data/all_pics/frame5477.jpg</td>\n",
       "      <td>0</td>\n",
       "    </tr>\n",
       "  </tbody>\n",
       "</table>\n",
       "<p>5478 rows × 5 columns</p>\n",
       "</div>"
      ],
      "text/plain": [
       "           filename  tom  jerry                     filepath  label\n",
       "0        frame0.jpg    0      0     data/all_pics/frame0.jpg      0\n",
       "1        frame1.jpg    0      0     data/all_pics/frame1.jpg      0\n",
       "2        frame2.jpg    0      0     data/all_pics/frame2.jpg      0\n",
       "3        frame3.jpg    0      0     data/all_pics/frame3.jpg      0\n",
       "4        frame4.jpg    0      0     data/all_pics/frame4.jpg      0\n",
       "...             ...  ...    ...                          ...    ...\n",
       "5473  frame5473.jpg    0      0  data/all_pics/frame5473.jpg      0\n",
       "5474  frame5474.jpg    0      0  data/all_pics/frame5474.jpg      0\n",
       "5475  frame5475.jpg    0      0  data/all_pics/frame5475.jpg      0\n",
       "5476  frame5476.jpg    0      0  data/all_pics/frame5476.jpg      0\n",
       "5477  frame5477.jpg    0      0  data/all_pics/frame5477.jpg      0\n",
       "\n",
       "[5478 rows x 5 columns]"
      ]
     },
     "execution_count": 3,
     "metadata": {},
     "output_type": "execute_result"
    }
   ],
   "source": [
    "data = pd.read_csv('data/ground_truth.csv')\n",
    "data['filepath'] = 'data/all_pics/' + data['filename']\n",
    "label = []\n",
    "for i in range(len(data)):\n",
    "    if data.iloc[i].tom == 0 and data.iloc[i].jerry == 0:\n",
    "        label.append(0)\n",
    "    elif data.iloc[i].tom == 1 and data.iloc[i].jerry == 0:\n",
    "        label.append(1)\n",
    "    elif data.iloc[i].tom == 0 and data.iloc[i].jerry == 1:\n",
    "        label.append(2)\n",
    "    else:\n",
    "        label.append(3)\n",
    "data['label'] = label\n",
    "\n",
    "data"
   ]
  },
  {
   "cell_type": "code",
   "execution_count": 4,
   "id": "559dc733",
   "metadata": {
    "execution": {
     "iopub.execute_input": "2022-06-28T22:17:07.017270Z",
     "iopub.status.busy": "2022-06-28T22:17:07.016664Z",
     "iopub.status.idle": "2022-06-28T22:17:07.027218Z",
     "shell.execute_reply": "2022-06-28T22:17:07.026596Z",
     "shell.execute_reply.started": "2022-06-28T22:17:07.017236Z"
    },
    "tags": []
   },
   "outputs": [
    {
     "data": {
      "text/html": [
       "<div>\n",
       "<style scoped>\n",
       "    .dataframe tbody tr th:only-of-type {\n",
       "        vertical-align: middle;\n",
       "    }\n",
       "\n",
       "    .dataframe tbody tr th {\n",
       "        vertical-align: top;\n",
       "    }\n",
       "\n",
       "    .dataframe thead th {\n",
       "        text-align: right;\n",
       "    }\n",
       "</style>\n",
       "<table border=\"1\" class=\"dataframe\">\n",
       "  <thead>\n",
       "    <tr style=\"text-align: right;\">\n",
       "      <th></th>\n",
       "      <th>filename</th>\n",
       "      <th>jerry</th>\n",
       "      <th>filepath</th>\n",
       "      <th>label</th>\n",
       "    </tr>\n",
       "    <tr>\n",
       "      <th>tom</th>\n",
       "      <th></th>\n",
       "      <th></th>\n",
       "      <th></th>\n",
       "      <th></th>\n",
       "    </tr>\n",
       "  </thead>\n",
       "  <tbody>\n",
       "    <tr>\n",
       "      <th>0</th>\n",
       "      <td>2768</td>\n",
       "      <td>2768</td>\n",
       "      <td>2768</td>\n",
       "      <td>2768</td>\n",
       "    </tr>\n",
       "    <tr>\n",
       "      <th>1</th>\n",
       "      <td>2710</td>\n",
       "      <td>2710</td>\n",
       "      <td>2710</td>\n",
       "      <td>2710</td>\n",
       "    </tr>\n",
       "  </tbody>\n",
       "</table>\n",
       "</div>"
      ],
      "text/plain": [
       "     filename  jerry  filepath  label\n",
       "tom                                  \n",
       "0        2768   2768      2768   2768\n",
       "1        2710   2710      2710   2710"
      ]
     },
     "execution_count": 4,
     "metadata": {},
     "output_type": "execute_result"
    }
   ],
   "source": [
    "data.groupby('tom').count()"
   ]
  },
  {
   "cell_type": "code",
   "execution_count": 5,
   "id": "93cbf50f",
   "metadata": {
    "execution": {
     "iopub.execute_input": "2022-06-28T22:17:07.028718Z",
     "iopub.status.busy": "2022-06-28T22:17:07.028184Z",
     "iopub.status.idle": "2022-06-28T22:17:07.034514Z",
     "shell.execute_reply": "2022-06-28T22:17:07.033932Z",
     "shell.execute_reply.started": "2022-06-28T22:17:07.028676Z"
    },
    "tags": []
   },
   "outputs": [],
   "source": [
    "# X_train, X_test, y_train, y_test = train_test_split(X, y, test_size=0.33)\n",
    "\n",
    "i = np.random.rand(5478)\n",
    "df_train = data.iloc[i>0.25].reset_index(drop=True)\n",
    "df_val = data.iloc[i<=0.25].reset_index(drop=True)"
   ]
  },
  {
   "cell_type": "code",
   "execution_count": 6,
   "id": "ff5ad1d2",
   "metadata": {
    "execution": {
     "iopub.execute_input": "2022-06-28T22:17:07.035982Z",
     "iopub.status.busy": "2022-06-28T22:17:07.035359Z",
     "iopub.status.idle": "2022-06-28T22:17:07.040200Z",
     "shell.execute_reply": "2022-06-28T22:17:07.039579Z",
     "shell.execute_reply.started": "2022-06-28T22:17:07.035950Z"
    },
    "tags": []
   },
   "outputs": [
    {
     "data": {
      "text/plain": [
       "((4071, 5), (1407, 5))"
      ]
     },
     "execution_count": 6,
     "metadata": {},
     "output_type": "execute_result"
    }
   ],
   "source": [
    "df_train.shape, df_val.shape"
   ]
  },
  {
   "cell_type": "code",
   "execution_count": 7,
   "id": "b591dc2e-cd21-4211-8f1b-a6e67a772366",
   "metadata": {
    "execution": {
     "iopub.execute_input": "2022-06-28T22:17:07.041520Z",
     "iopub.status.busy": "2022-06-28T22:17:07.041057Z",
     "iopub.status.idle": "2022-06-28T22:17:07.052042Z",
     "shell.execute_reply": "2022-06-28T22:17:07.051355Z",
     "shell.execute_reply.started": "2022-06-28T22:17:07.041491Z"
    },
    "tags": []
   },
   "outputs": [
    {
     "data": {
      "text/html": [
       "<div>\n",
       "<style scoped>\n",
       "    .dataframe tbody tr th:only-of-type {\n",
       "        vertical-align: middle;\n",
       "    }\n",
       "\n",
       "    .dataframe tbody tr th {\n",
       "        vertical-align: top;\n",
       "    }\n",
       "\n",
       "    .dataframe thead th {\n",
       "        text-align: right;\n",
       "    }\n",
       "</style>\n",
       "<table border=\"1\" class=\"dataframe\">\n",
       "  <thead>\n",
       "    <tr style=\"text-align: right;\">\n",
       "      <th></th>\n",
       "      <th>filename</th>\n",
       "      <th>tom</th>\n",
       "      <th>jerry</th>\n",
       "      <th>filepath</th>\n",
       "      <th>label</th>\n",
       "    </tr>\n",
       "  </thead>\n",
       "  <tbody>\n",
       "    <tr>\n",
       "      <th>0</th>\n",
       "      <td>frame0.jpg</td>\n",
       "      <td>0</td>\n",
       "      <td>0</td>\n",
       "      <td>data/all_pics/frame0.jpg</td>\n",
       "      <td>0</td>\n",
       "    </tr>\n",
       "    <tr>\n",
       "      <th>1</th>\n",
       "      <td>frame1.jpg</td>\n",
       "      <td>0</td>\n",
       "      <td>0</td>\n",
       "      <td>data/all_pics/frame1.jpg</td>\n",
       "      <td>0</td>\n",
       "    </tr>\n",
       "    <tr>\n",
       "      <th>2</th>\n",
       "      <td>frame2.jpg</td>\n",
       "      <td>0</td>\n",
       "      <td>0</td>\n",
       "      <td>data/all_pics/frame2.jpg</td>\n",
       "      <td>0</td>\n",
       "    </tr>\n",
       "    <tr>\n",
       "      <th>3</th>\n",
       "      <td>frame3.jpg</td>\n",
       "      <td>0</td>\n",
       "      <td>0</td>\n",
       "      <td>data/all_pics/frame3.jpg</td>\n",
       "      <td>0</td>\n",
       "    </tr>\n",
       "    <tr>\n",
       "      <th>4</th>\n",
       "      <td>frame6.jpg</td>\n",
       "      <td>0</td>\n",
       "      <td>0</td>\n",
       "      <td>data/all_pics/frame6.jpg</td>\n",
       "      <td>0</td>\n",
       "    </tr>\n",
       "    <tr>\n",
       "      <th>...</th>\n",
       "      <td>...</td>\n",
       "      <td>...</td>\n",
       "      <td>...</td>\n",
       "      <td>...</td>\n",
       "      <td>...</td>\n",
       "    </tr>\n",
       "    <tr>\n",
       "      <th>4066</th>\n",
       "      <td>frame5472.jpg</td>\n",
       "      <td>0</td>\n",
       "      <td>1</td>\n",
       "      <td>data/all_pics/frame5472.jpg</td>\n",
       "      <td>2</td>\n",
       "    </tr>\n",
       "    <tr>\n",
       "      <th>4067</th>\n",
       "      <td>frame5474.jpg</td>\n",
       "      <td>0</td>\n",
       "      <td>0</td>\n",
       "      <td>data/all_pics/frame5474.jpg</td>\n",
       "      <td>0</td>\n",
       "    </tr>\n",
       "    <tr>\n",
       "      <th>4068</th>\n",
       "      <td>frame5475.jpg</td>\n",
       "      <td>0</td>\n",
       "      <td>0</td>\n",
       "      <td>data/all_pics/frame5475.jpg</td>\n",
       "      <td>0</td>\n",
       "    </tr>\n",
       "    <tr>\n",
       "      <th>4069</th>\n",
       "      <td>frame5476.jpg</td>\n",
       "      <td>0</td>\n",
       "      <td>0</td>\n",
       "      <td>data/all_pics/frame5476.jpg</td>\n",
       "      <td>0</td>\n",
       "    </tr>\n",
       "    <tr>\n",
       "      <th>4070</th>\n",
       "      <td>frame5477.jpg</td>\n",
       "      <td>0</td>\n",
       "      <td>0</td>\n",
       "      <td>data/all_pics/frame5477.jpg</td>\n",
       "      <td>0</td>\n",
       "    </tr>\n",
       "  </tbody>\n",
       "</table>\n",
       "<p>4071 rows × 5 columns</p>\n",
       "</div>"
      ],
      "text/plain": [
       "           filename  tom  jerry                     filepath  label\n",
       "0        frame0.jpg    0      0     data/all_pics/frame0.jpg      0\n",
       "1        frame1.jpg    0      0     data/all_pics/frame1.jpg      0\n",
       "2        frame2.jpg    0      0     data/all_pics/frame2.jpg      0\n",
       "3        frame3.jpg    0      0     data/all_pics/frame3.jpg      0\n",
       "4        frame6.jpg    0      0     data/all_pics/frame6.jpg      0\n",
       "...             ...  ...    ...                          ...    ...\n",
       "4066  frame5472.jpg    0      1  data/all_pics/frame5472.jpg      2\n",
       "4067  frame5474.jpg    0      0  data/all_pics/frame5474.jpg      0\n",
       "4068  frame5475.jpg    0      0  data/all_pics/frame5475.jpg      0\n",
       "4069  frame5476.jpg    0      0  data/all_pics/frame5476.jpg      0\n",
       "4070  frame5477.jpg    0      0  data/all_pics/frame5477.jpg      0\n",
       "\n",
       "[4071 rows x 5 columns]"
      ]
     },
     "execution_count": 7,
     "metadata": {},
     "output_type": "execute_result"
    }
   ],
   "source": [
    "df_train"
   ]
  },
  {
   "cell_type": "code",
   "execution_count": 8,
   "id": "cfa4a51e",
   "metadata": {
    "execution": {
     "iopub.execute_input": "2022-06-28T22:17:07.578029Z",
     "iopub.status.busy": "2022-06-28T22:17:07.577664Z",
     "iopub.status.idle": "2022-06-28T22:17:07.823646Z",
     "shell.execute_reply": "2022-06-28T22:17:07.822996Z",
     "shell.execute_reply.started": "2022-06-28T22:17:07.578005Z"
    },
    "tags": []
   },
   "outputs": [
    {
     "data": {
      "text/plain": [
       "<matplotlib.image.AxesImage at 0x7fecd204ed30>"
      ]
     },
     "execution_count": 8,
     "metadata": {},
     "output_type": "execute_result"
    },
    {
     "data": {
      "image/png": "[encoded data removed]",
      "text/plain": [
       "<Figure size 432x288 with 1 Axes>"
      ]
     },
     "metadata": {
      "needs_background": "light"
     },
     "output_type": "display_data"
    }
   ],
   "source": [
    "img = cv2.imread('data/all_pics/frame0.jpg')\n",
    "# img\n",
    "plt.imshow(img)"
   ]
  },
  {
   "cell_type": "code",
   "execution_count": 9,
   "id": "0881f478",
   "metadata": {
    "execution": {
     "iopub.execute_input": "2022-06-28T22:17:07.870756Z",
     "iopub.status.busy": "2022-06-28T22:17:07.870447Z",
     "iopub.status.idle": "2022-06-28T22:17:07.891429Z",
     "shell.execute_reply": "2022-06-28T22:17:07.890950Z",
     "shell.execute_reply.started": "2022-06-28T22:17:07.870734Z"
    },
    "tags": []
   },
   "outputs": [],
   "source": [
    "img = cv2.imread('data/all_pics/frame0.jpg')\n",
    "# resize the img\n",
    "img = cv2.resize(img, (128, 128), interpolation = cv2.INTER_AREA)\n",
    "\n",
    "# convert to RGB\n",
    "img = cv2.cvtColor(img, cv2.COLOR_BGR2RGB)\n",
    "\n",
    "# # move color channels to correct spot\n",
    "img = np.transpose(img, (2, 0, 1))"
   ]
  },
  {
   "cell_type": "code",
   "execution_count": 10,
   "id": "07ec4062",
   "metadata": {
    "execution": {
     "iopub.execute_input": "2022-06-28T22:17:08.762547Z",
     "iopub.status.busy": "2022-06-28T22:17:08.762187Z",
     "iopub.status.idle": "2022-06-28T22:17:08.784887Z",
     "shell.execute_reply": "2022-06-28T22:17:08.784323Z",
     "shell.execute_reply.started": "2022-06-28T22:17:08.762523Z"
    },
    "tags": []
   },
   "outputs": [],
   "source": [
    "img = torch.tensor(img).float()"
   ]
  },
  {
   "cell_type": "code",
   "execution_count": 11,
   "id": "d4917327",
   "metadata": {
    "execution": {
     "iopub.execute_input": "2022-06-28T22:17:09.173490Z",
     "iopub.status.busy": "2022-06-28T22:17:09.173134Z",
     "iopub.status.idle": "2022-06-28T22:17:09.177260Z",
     "shell.execute_reply": "2022-06-28T22:17:09.176793Z",
     "shell.execute_reply.started": "2022-06-28T22:17:09.173466Z"
    },
    "tags": []
   },
   "outputs": [
    {
     "data": {
      "text/plain": [
       "torch.Size([3, 128, 128])"
      ]
     },
     "execution_count": 11,
     "metadata": {},
     "output_type": "execute_result"
    }
   ],
   "source": [
    "img.shape"
   ]
  },
  {
   "cell_type": "code",
   "execution_count": 12,
   "id": "8dc9912a",
   "metadata": {
    "execution": {
     "iopub.execute_input": "2022-06-28T22:17:09.680238Z",
     "iopub.status.busy": "2022-06-28T22:17:09.679920Z",
     "iopub.status.idle": "2022-06-28T22:17:09.685007Z",
     "shell.execute_reply": "2022-06-28T22:17:09.684247Z",
     "shell.execute_reply.started": "2022-06-28T22:17:09.680214Z"
    },
    "tags": []
   },
   "outputs": [
    {
     "data": {
      "text/plain": [
       "torch.Size([1, 3, 128, 128])"
      ]
     },
     "execution_count": 12,
     "metadata": {},
     "output_type": "execute_result"
    }
   ],
   "source": [
    "img = img[np.newaxis, :, :, :]\n",
    "img.shape"
   ]
  },
  {
   "cell_type": "markdown",
   "id": "7cf5bcc1-02b5-4d1d-ba17-45e47e2d8718",
   "metadata": {
    "tags": []
   },
   "source": [
    "# 1. Create the CNN model"
   ]
  },
  {
   "cell_type": "code",
   "execution_count": 13,
   "id": "7eade13a",
   "metadata": {
    "execution": {
     "iopub.execute_input": "2022-06-28T22:17:10.261079Z",
     "iopub.status.busy": "2022-06-28T22:17:10.260711Z",
     "iopub.status.idle": "2022-06-28T22:17:10.267782Z",
     "shell.execute_reply": "2022-06-28T22:17:10.267312Z",
     "shell.execute_reply.started": "2022-06-28T22:17:10.261054Z"
    },
    "tags": []
   },
   "outputs": [],
   "source": [
    "class Simple_CNN(nn.Module):\n",
    "    def __init__(self):\n",
    "        super().__init__()\n",
    "        self.conv1 = nn.Conv2d(in_channels=3, out_channels=8, kernel_size=3, padding=1)\n",
    "        self.conv2 = nn.Conv2d(in_channels=8, out_channels=16, kernel_size=3, padding=1)\n",
    "        self.conv3 = nn.Conv2d(in_channels=16, out_channels=32, kernel_size=3, padding=1)\n",
    "        self.conv4 = nn.Conv2d(in_channels=32, out_channels=64, kernel_size=3, padding=1)\n",
    "        \n",
    "        self.linear1 = nn.Linear(4096, 100)\n",
    "        self.linear2 = nn.Linear(100, 1)\n",
    "        \n",
    "        self.pool = nn.MaxPool2d(kernel_size=2)\n",
    "        \n",
    "        self.relu = nn.ReLU()\n",
    "        \n",
    "        self.unroll = nn.Flatten()\n",
    "        \n",
    "    def forward(self, x):\n",
    "        x = self.relu(self.conv1(x))\n",
    "        x = self.pool(x)\n",
    "        \n",
    "        x = self.relu(self.conv2(x))\n",
    "        x = self.pool(x)\n",
    "        \n",
    "        x = self.relu(self.conv3(x))\n",
    "        x = self.pool(x)\n",
    "        \n",
    "        x = self.relu(self.conv4(x))\n",
    "        x = self.pool(x)\n",
    "        \n",
    "        x = self.relu(self.linear1(self.unroll(x)))\n",
    "        x = self.linear2(x)\n",
    "        return torch.squeeze(x)"
   ]
  },
  {
   "cell_type": "code",
   "execution_count": 14,
   "id": "0f70d6b3-022f-4324-a8f0-e650206f773e",
   "metadata": {
    "execution": {
     "iopub.execute_input": "2022-06-28T22:17:10.726045Z",
     "iopub.status.busy": "2022-06-28T22:17:10.725688Z",
     "iopub.status.idle": "2022-06-28T22:17:10.732614Z",
     "shell.execute_reply": "2022-06-28T22:17:10.732102Z",
     "shell.execute_reply.started": "2022-06-28T22:17:10.726020Z"
    },
    "tags": []
   },
   "outputs": [],
   "source": [
    "class Multi_CNN(nn.Module):\n",
    "    def __init__(self):\n",
    "        super().__init__()\n",
    "        self.conv1 = nn.Conv2d(in_channels=3, out_channels=8, kernel_size=3, padding=1)\n",
    "        self.conv2 = nn.Conv2d(in_channels=8, out_channels=16, kernel_size=3, padding=1)\n",
    "        self.conv3 = nn.Conv2d(in_channels=16, out_channels=32, kernel_size=3, padding=1)\n",
    "        self.conv4 = nn.Conv2d(in_channels=32, out_channels=64, kernel_size=3, padding=1)\n",
    "        \n",
    "        self.linear1 = nn.Linear(4096, 100)\n",
    "        self.linear2 = nn.Linear(100, 4)\n",
    "        \n",
    "        self.pool = nn.MaxPool2d(kernel_size=2)\n",
    "        \n",
    "        self.relu = nn.ReLU()\n",
    "        \n",
    "        self.unroll = nn.Flatten()\n",
    "        \n",
    "    def forward(self, x):\n",
    "        x = self.relu(self.conv1(x))\n",
    "        x = self.pool(x)\n",
    "        \n",
    "        x = self.relu(self.conv2(x))\n",
    "        x = self.pool(x)\n",
    "        \n",
    "        x = self.relu(self.conv3(x))\n",
    "        x = self.pool(x)\n",
    "        \n",
    "        x = self.relu(self.conv4(x))\n",
    "        x = self.pool(x)\n",
    "        \n",
    "        x = self.relu(self.linear1(self.unroll(x)))\n",
    "        x = self.linear2(x)\n",
    "        return x"
   ]
  },
  {
   "cell_type": "markdown",
   "id": "9f9e9ea5-8fd3-405a-8f7d-dc660cccd609",
   "metadata": {
    "tags": []
   },
   "source": [
    "# 2. Train & Evaluation Functions"
   ]
  },
  {
   "cell_type": "code",
   "execution_count": 15,
   "id": "772a01b8-4bb3-4134-bd1a-4546251c1fcb",
   "metadata": {
    "execution": {
     "iopub.execute_input": "2022-06-28T22:17:11.422348Z",
     "iopub.status.busy": "2022-06-28T22:17:11.421988Z",
     "iopub.status.idle": "2022-06-28T22:17:11.429225Z",
     "shell.execute_reply": "2022-06-28T22:17:11.428721Z",
     "shell.execute_reply.started": "2022-06-28T22:17:11.422324Z"
    },
    "tags": []
   },
   "outputs": [],
   "source": [
    "def one_pass(model, dataloader, optimizer, lossFun, backwards=True, print_loss=False):\n",
    "    \n",
    "    if backwards == True:\n",
    "        model.train()\n",
    "    else:\n",
    "        model.eval()\n",
    "    \n",
    "    total_loss = 0.0\n",
    "    for x, y in dataloader:\n",
    "        \n",
    "        y_pred = model(x)\n",
    "        loss = lossFun(y_pred, y)\n",
    "        total_loss += loss.item()\n",
    "        \n",
    "        if backwards == True:\n",
    "            optimizer.zero_grad()\n",
    "            loss.backward()\n",
    "            optimizer.step()\n",
    "    avg_loss = total_loss / len(dataloader)\n",
    "    \n",
    "    if print_loss == True:\n",
    "        print(avg_loss)\n",
    "    \n",
    "    return avg_loss\n",
    "\n",
    "def one_pass_acc_multi(model, dataloader, num_points):\n",
    "    model.eval()\n",
    "    total_incorrect = 0\n",
    "    \n",
    "    softmax = nn.LogSoftmax(dim=1)\n",
    "    \n",
    "    for x, y in dataloader:\n",
    "        y_pred = softmax(model(x))\n",
    "        y_pred = torch.argmax(y_pred, dim=1)\n",
    "        \n",
    "        total_incorrect += torch.count_nonzero(y - y_pred).item()\n",
    "        \n",
    "    percent_wrong = total_incorrect / num_points\n",
    "    return 1 - percent_wrong\n",
    "\n",
    "def one_pass_acc_simple(model, dataloader, num_points):\n",
    "    model.eval()\n",
    "    total_incorrect = 0\n",
    "    \n",
    "    for x, y in dataloader:\n",
    "        y_pred = model(x)\n",
    "        y_pred = (torch.sigmoid(y_pred) > 0.5).float()\n",
    "        \n",
    "        total_incorrect = torch.count_nonzero(y - y_pred).item()\n",
    "        \n",
    "    percent_wrong = total_incorrect / num_points\n",
    "    return 1 - percent_wrong"
   ]
  },
  {
   "cell_type": "markdown",
   "id": "e33bb188-ca32-4889-b8d3-46e8ff0a7367",
   "metadata": {
    "tags": []
   },
   "source": [
    "# 3. Binary Prediction"
   ]
  },
  {
   "cell_type": "markdown",
   "id": "03c6342b",
   "metadata": {
    "tags": []
   },
   "source": [
    "## 3.1 Predict Tom"
   ]
  },
  {
   "cell_type": "markdown",
   "id": "c940a05f-db5e-46ac-85d9-f79895a8497e",
   "metadata": {
    "tags": []
   },
   "source": [
    "### 3.1.1 Create Dataset"
   ]
  },
  {
   "cell_type": "code",
   "execution_count": 16,
   "id": "94b0690e-60d1-4b41-bb1c-e09c403a805d",
   "metadata": {
    "execution": {
     "iopub.execute_input": "2022-06-28T22:17:12.824182Z",
     "iopub.status.busy": "2022-06-28T22:17:12.823813Z",
     "iopub.status.idle": "2022-06-28T22:17:12.829615Z",
     "shell.execute_reply": "2022-06-28T22:17:12.829086Z",
     "shell.execute_reply.started": "2022-06-28T22:17:12.824158Z"
    },
    "tags": []
   },
   "outputs": [],
   "source": [
    "# Dataset with resizing option\n",
    "class TomDataset(Dataset):\n",
    "    def __init__(self, df, data_path, resize=False):\n",
    "        self.df = df\n",
    "        self.data_path = data_path\n",
    "        self.resize = resize\n",
    "    \n",
    "    def __len__(self):\n",
    "        return len(self.df)\n",
    "    \n",
    "    def __getitem__(self, idx):\n",
    "        row = self.df.iloc[idx]\n",
    "        \n",
    "\n",
    "        image_path = row['filepath']\n",
    "        \n",
    "        # read the img\n",
    "        img = cv2.imread(image_path)\n",
    "        \n",
    "        # convert to RGB\n",
    "        img = cv2.cvtColor(img, cv2.COLOR_BGR2RGB)\n",
    "        \n",
    "        # resize image\n",
    "        if self.resize == True:\n",
    "            img = cv2.resize(img, (128, 128))\n",
    "        \n",
    "        # move color channels to correct spot\n",
    "        img = np.transpose(img, (2, 0, 1))\n",
    "        \n",
    "        # convert to [0,1] scale\n",
    "        img = torch.tensor(img / 255.).float()\n",
    "        \n",
    "        label = torch.tensor(row['tom']).float()\n",
    "        \n",
    "        return img, label"
   ]
  },
  {
   "cell_type": "code",
   "execution_count": 17,
   "id": "3e864848-2fb1-491d-a490-a47ba35ae692",
   "metadata": {
    "execution": {
     "iopub.execute_input": "2022-06-28T22:17:13.214920Z",
     "iopub.status.busy": "2022-06-28T22:17:13.214518Z",
     "iopub.status.idle": "2022-06-28T22:17:13.217729Z",
     "shell.execute_reply": "2022-06-28T22:17:13.217215Z",
     "shell.execute_reply.started": "2022-06-28T22:17:13.214892Z"
    },
    "tags": []
   },
   "outputs": [],
   "source": [
    "data_path = 'data/all_pics'"
   ]
  },
  {
   "cell_type": "code",
   "execution_count": 18,
   "id": "39f6977e",
   "metadata": {
    "execution": {
     "iopub.execute_input": "2022-06-28T22:17:13.448788Z",
     "iopub.status.busy": "2022-06-28T22:17:13.448449Z",
     "iopub.status.idle": "2022-06-28T22:17:13.452694Z",
     "shell.execute_reply": "2022-06-28T22:17:13.452147Z",
     "shell.execute_reply.started": "2022-06-28T22:17:13.448766Z"
    },
    "tags": []
   },
   "outputs": [],
   "source": [
    "ds_train = TomDataset(df_train, data_path, resize=True)\n",
    "ds_val = TomDataset(df_val, data_path, resize=True)\n",
    "\n",
    "dl_train = DataLoader(ds_train, batch_size=500, shuffle=True)\n",
    "dl_val = DataLoader(ds_val, batch_size=500, shuffle=False)"
   ]
  },
  {
   "cell_type": "markdown",
   "id": "67c34e30-df52-4c95-b0ec-2c6d2c1aba10",
   "metadata": {
    "tags": []
   },
   "source": [
    "### 3.1.2 Create Model"
   ]
  },
  {
   "cell_type": "code",
   "execution_count": 19,
   "id": "1bc2e83f",
   "metadata": {
    "execution": {
     "iopub.execute_input": "2022-06-28T22:17:14.150599Z",
     "iopub.status.busy": "2022-06-28T22:17:14.150228Z",
     "iopub.status.idle": "2022-06-28T22:17:14.168522Z",
     "shell.execute_reply": "2022-06-28T22:17:14.167955Z",
     "shell.execute_reply.started": "2022-06-28T22:17:14.150573Z"
    },
    "tags": []
   },
   "outputs": [
    {
     "name": "stdout",
     "output_type": "stream",
     "text": [
      "----------------------------------------------------------------\n",
      "        Layer (type)               Output Shape         Param #\n",
      "================================================================\n",
      "            Conv2d-1          [-1, 8, 128, 128]             224\n",
      "              ReLU-2          [-1, 8, 128, 128]               0\n",
      "         MaxPool2d-3            [-1, 8, 64, 64]               0\n",
      "            Conv2d-4           [-1, 16, 64, 64]           1,168\n",
      "              ReLU-5           [-1, 16, 64, 64]               0\n",
      "         MaxPool2d-6           [-1, 16, 32, 32]               0\n",
      "            Conv2d-7           [-1, 32, 32, 32]           4,640\n",
      "              ReLU-8           [-1, 32, 32, 32]               0\n",
      "         MaxPool2d-9           [-1, 32, 16, 16]               0\n",
      "           Conv2d-10           [-1, 64, 16, 16]          18,496\n",
      "             ReLU-11           [-1, 64, 16, 16]               0\n",
      "        MaxPool2d-12             [-1, 64, 8, 8]               0\n",
      "          Flatten-13                 [-1, 4096]               0\n",
      "           Linear-14                  [-1, 100]         409,700\n",
      "             ReLU-15                  [-1, 100]               0\n",
      "           Linear-16                    [-1, 1]             101\n",
      "================================================================\n",
      "Total params: 434,329\n",
      "Trainable params: 434,329\n",
      "Non-trainable params: 0\n",
      "----------------------------------------------------------------\n",
      "Input size (MB): 0.19\n",
      "Forward/backward pass size (MB): 4.25\n",
      "Params size (MB): 1.66\n",
      "Estimated Total Size (MB): 6.10\n",
      "----------------------------------------------------------------\n"
     ]
    }
   ],
   "source": [
    "tom_model = Simple_CNN()\n",
    "\n",
    "from torchsummary import summary\n",
    "summary(tom_model, input_size = (3, 128, 128), device='cpu')"
   ]
  },
  {
   "cell_type": "code",
   "execution_count": 20,
   "id": "1f7a2798-4bee-46b8-82b6-dc665363b3c6",
   "metadata": {
    "execution": {
     "iopub.execute_input": "2022-06-28T22:17:14.480251Z",
     "iopub.status.busy": "2022-06-28T22:17:14.479884Z",
     "iopub.status.idle": "2022-06-28T22:17:14.483593Z",
     "shell.execute_reply": "2022-06-28T22:17:14.483116Z",
     "shell.execute_reply.started": "2022-06-28T22:17:14.480226Z"
    },
    "tags": []
   },
   "outputs": [],
   "source": [
    "lossFun = nn.BCEWithLogitsLoss()\n",
    "optimizer = optim.Adam(tom_model.parameters(), lr = 0.001)"
   ]
  },
  {
   "cell_type": "markdown",
   "id": "84232a75-6484-4a93-b862-020de369e685",
   "metadata": {
    "tags": []
   },
   "source": [
    "### 3.3.2 Train & Evaluate"
   ]
  },
  {
   "cell_type": "code",
   "execution_count": 21,
   "id": "433760e3-6cb6-4331-8160-6b2881990f4a",
   "metadata": {
    "execution": {
     "iopub.execute_input": "2022-06-28T22:17:15.236074Z",
     "iopub.status.busy": "2022-06-28T22:17:15.235707Z",
     "iopub.status.idle": "2022-06-28T22:34:32.497123Z",
     "shell.execute_reply": "2022-06-28T22:34:32.496520Z",
     "shell.execute_reply.started": "2022-06-28T22:17:15.236050Z"
    },
    "tags": []
   },
   "outputs": [
    {
     "data": {
      "application/vnd.jupyter.widget-view+json": {
       "model_id": "b67855ca3627451cbf30425d6ee831c3",
       "version_major": 2,
       "version_minor": 0
      },
      "text/plain": [
       "  0%|          | 0/10 [00:00<?, ?it/s]"
      ]
     },
     "metadata": {},
     "output_type": "display_data"
    },
    {
     "name": "stdout",
     "output_type": "stream",
     "text": [
      "Epoch:  0\n",
      "Train loss:  0.6947364343537225\n",
      "Valid loss:  0.6935563683509827\n",
      "Train Acc:  0.9926308032424466\n",
      "Valid Acc:  0.8450604122245913\n",
      "Epoch:  1\n",
      "Train loss:  0.6925991574923197\n",
      "Valid loss:  0.6920741597811381\n",
      "Train Acc:  0.9916482436747728\n",
      "Valid Acc:  0.8450604122245913\n",
      "Epoch:  2\n",
      "Train loss:  0.6844204995367262\n",
      "Valid loss:  0.6742121974627177\n",
      "Train Acc:  0.9958241218373864\n",
      "Valid Acc:  0.8941009239516702\n",
      "Epoch:  3\n",
      "Train loss:  0.6613319714864095\n",
      "Valid loss:  0.6392198204994202\n",
      "Train Acc:  0.9928764431343651\n",
      "Valid Acc:  0.9111584932480454\n",
      "Epoch:  4\n",
      "Train loss:  0.6206745240423415\n",
      "Valid loss:  0.6007668574651083\n",
      "Train Acc:  0.9938590027020389\n",
      "Valid Acc:  0.9118692253020612\n",
      "Epoch:  5\n",
      "Train loss:  0.5852943592601352\n",
      "Valid loss:  0.5737798810005188\n",
      "Train Acc:  0.995087202161631\n",
      "Valid Acc:  0.9097370291400142\n",
      "Epoch:  6\n",
      "Train loss:  0.5456250276830461\n",
      "Valid loss:  0.5464006066322327\n",
      "Train Acc:  0.9953328420535495\n",
      "Valid Acc:  0.9111584932480454\n",
      "Epoch:  7\n",
      "Train loss:  0.501594967312283\n",
      "Valid loss:  0.48550228277842206\n",
      "Train Acc:  0.9960697617293048\n",
      "Valid Acc:  0.9303482587064676\n",
      "Epoch:  8\n",
      "Train loss:  0.4797203342119853\n",
      "Valid loss:  0.5211072067419688\n",
      "Train Acc:  0.9963154016212233\n",
      "Valid Acc:  0.9196872778962332\n",
      "Epoch:  9\n",
      "Train loss:  0.43815944923294914\n",
      "Valid loss:  0.45992766817410785\n",
      "Train Acc:  0.9968066814050602\n",
      "Valid Acc:  0.931769722814499\n"
     ]
    }
   ],
   "source": [
    "from tqdm.notebook import tqdm\n",
    "\n",
    "num_epochs = 10\n",
    "train_losses = []\n",
    "valid_losses = []\n",
    "\n",
    "for epoch in tqdm(range(num_epochs)):\n",
    "    print('Epoch: ', epoch)\n",
    "    \n",
    "    train_loss = one_pass(tom_model, dl_train, optimizer, lossFun)\n",
    "    train_losses.append(train_loss)\n",
    "    print('Train loss: ', train_loss)\n",
    "    \n",
    "    valid_loss = one_pass(tom_model, dl_val, optimizer, lossFun, backwards=False)\n",
    "    valid_losses.append(valid_loss)\n",
    "    print('Valid loss: ', valid_loss)\n",
    "    \n",
    "    train_acc = one_pass_acc_simple(tom_model, dl_train, len(ds_train))\n",
    "    valid_acc = one_pass_acc_simple(tom_model, dl_val, len(ds_val))\n",
    "    print('Train Acc: ', train_acc)\n",
    "    print('Valid Acc: ', valid_acc)"
   ]
  },
  {
   "cell_type": "code",
   "execution_count": 22,
   "id": "1240dbd7-e7fa-4366-98a7-40c4b2c4141e",
   "metadata": {
    "execution": {
     "iopub.execute_input": "2022-06-28T22:34:32.498398Z",
     "iopub.status.busy": "2022-06-28T22:34:32.498130Z",
     "iopub.status.idle": "2022-06-28T22:34:32.589586Z",
     "shell.execute_reply": "2022-06-28T22:34:32.589010Z",
     "shell.execute_reply.started": "2022-06-28T22:34:32.498377Z"
    },
    "tags": []
   },
   "outputs": [
    {
     "data": {
      "text/plain": [
       "[<matplotlib.lines.Line2D at 0x7fecd1b94e80>]"
      ]
     },
     "execution_count": 22,
     "metadata": {},
     "output_type": "execute_result"
    },
    {
     "data": {
      "image/png": "[encoded data removed]",
      "text/plain": [
       "<Figure size 432x288 with 1 Axes>"
      ]
     },
     "metadata": {
      "needs_background": "light"
     },
     "output_type": "display_data"
    }
   ],
   "source": [
    "import matplotlib.pyplot as plt\n",
    "plt.plot(train_losses)\n",
    "plt.plot(valid_losses)"
   ]
  },
  {
   "cell_type": "markdown",
   "id": "83123468-79ad-4bc6-82b6-e848ce6d13ee",
   "metadata": {
    "tags": []
   },
   "source": [
    "## 3.2 Predict Jerry"
   ]
  },
  {
   "cell_type": "markdown",
   "id": "67cb40d4-431f-4896-8d64-ebd5502c63cd",
   "metadata": {
    "tags": []
   },
   "source": [
    "### 3.2.1 Create Dataset"
   ]
  },
  {
   "cell_type": "code",
   "execution_count": 23,
   "id": "4bf85fae-5c7c-4338-bf02-c7face7d87f2",
   "metadata": {
    "execution": {
     "iopub.execute_input": "2022-06-28T22:34:32.590654Z",
     "iopub.status.busy": "2022-06-28T22:34:32.590366Z",
     "iopub.status.idle": "2022-06-28T22:34:32.596424Z",
     "shell.execute_reply": "2022-06-28T22:34:32.595729Z",
     "shell.execute_reply.started": "2022-06-28T22:34:32.590633Z"
    },
    "tags": []
   },
   "outputs": [],
   "source": [
    "# Dataset with resizing option\n",
    "class JerryDataset(Dataset):\n",
    "    def __init__(self, df, data_path, resize=False):\n",
    "        self.df = df\n",
    "        self.data_path = data_path\n",
    "        self.resize = resize\n",
    "    \n",
    "    def __len__(self):\n",
    "        return len(self.df)\n",
    "    \n",
    "    def __getitem__(self, idx):\n",
    "        row = self.df.iloc[idx]\n",
    "        \n",
    "\n",
    "        image_path = row['filepath']\n",
    "        \n",
    "        # read the img\n",
    "        img = cv2.imread(image_path)\n",
    "        \n",
    "        # convert to RGB\n",
    "        img = cv2.cvtColor(img, cv2.COLOR_BGR2RGB)\n",
    "        \n",
    "        # resize image\n",
    "        if self.resize == True:\n",
    "            img = cv2.resize(img, (128, 128))\n",
    "        \n",
    "        # move color channels to correct spot\n",
    "        img = np.transpose(img, (2, 0, 1))\n",
    "        \n",
    "        # convert to [0,1] scale\n",
    "        img = torch.tensor(img / 255.).float()\n",
    "        \n",
    "        label = torch.tensor(row['jerry']).float()\n",
    "        \n",
    "        return img, label"
   ]
  },
  {
   "cell_type": "code",
   "execution_count": 24,
   "id": "7c93c5a4-a747-4781-96d3-76441fb5d7c5",
   "metadata": {
    "execution": {
     "iopub.execute_input": "2022-06-28T22:34:32.598851Z",
     "iopub.status.busy": "2022-06-28T22:34:32.598130Z",
     "iopub.status.idle": "2022-06-28T22:34:32.603284Z",
     "shell.execute_reply": "2022-06-28T22:34:32.602591Z",
     "shell.execute_reply.started": "2022-06-28T22:34:32.598819Z"
    },
    "tags": []
   },
   "outputs": [],
   "source": [
    "ds_train = JerryDataset(df_train, data_path, resize=True)\n",
    "ds_val = JerryDataset(df_val, data_path, resize=True)\n",
    "\n",
    "dl_train = DataLoader(ds_train, batch_size=500, shuffle=True)\n",
    "dl_val = DataLoader(ds_val, batch_size=500, shuffle=False)"
   ]
  },
  {
   "cell_type": "markdown",
   "id": "9c0f5df6-8563-46db-9892-d38052c9d0df",
   "metadata": {
    "tags": []
   },
   "source": [
    "### 3.2.2 Create Model"
   ]
  },
  {
   "cell_type": "code",
   "execution_count": 25,
   "id": "026325f6-a0d7-4403-9569-15da91d1bbb4",
   "metadata": {
    "execution": {
     "iopub.execute_input": "2022-06-28T22:34:32.604847Z",
     "iopub.status.busy": "2022-06-28T22:34:32.604350Z",
     "iopub.status.idle": "2022-06-28T22:34:32.621273Z",
     "shell.execute_reply": "2022-06-28T22:34:32.620508Z",
     "shell.execute_reply.started": "2022-06-28T22:34:32.604815Z"
    },
    "tags": []
   },
   "outputs": [
    {
     "name": "stdout",
     "output_type": "stream",
     "text": [
      "----------------------------------------------------------------\n",
      "        Layer (type)               Output Shape         Param #\n",
      "================================================================\n",
      "            Conv2d-1          [-1, 8, 128, 128]             224\n",
      "              ReLU-2          [-1, 8, 128, 128]               0\n",
      "         MaxPool2d-3            [-1, 8, 64, 64]               0\n",
      "            Conv2d-4           [-1, 16, 64, 64]           1,168\n",
      "              ReLU-5           [-1, 16, 64, 64]               0\n",
      "         MaxPool2d-6           [-1, 16, 32, 32]               0\n",
      "            Conv2d-7           [-1, 32, 32, 32]           4,640\n",
      "              ReLU-8           [-1, 32, 32, 32]               0\n",
      "         MaxPool2d-9           [-1, 32, 16, 16]               0\n",
      "           Conv2d-10           [-1, 64, 16, 16]          18,496\n",
      "             ReLU-11           [-1, 64, 16, 16]               0\n",
      "        MaxPool2d-12             [-1, 64, 8, 8]               0\n",
      "          Flatten-13                 [-1, 4096]               0\n",
      "           Linear-14                  [-1, 100]         409,700\n",
      "             ReLU-15                  [-1, 100]               0\n",
      "           Linear-16                    [-1, 1]             101\n",
      "================================================================\n",
      "Total params: 434,329\n",
      "Trainable params: 434,329\n",
      "Non-trainable params: 0\n",
      "----------------------------------------------------------------\n",
      "Input size (MB): 0.19\n",
      "Forward/backward pass size (MB): 4.25\n",
      "Params size (MB): 1.66\n",
      "Estimated Total Size (MB): 6.10\n",
      "----------------------------------------------------------------\n"
     ]
    }
   ],
   "source": [
    "jerry_model = Simple_CNN()\n",
    "\n",
    "from torchsummary import summary\n",
    "summary(jerry_model, input_size = (3, 128, 128), device='cpu')"
   ]
  },
  {
   "cell_type": "code",
   "execution_count": 26,
   "id": "bc3cc611-7cf0-41b1-ade8-012ea5599592",
   "metadata": {
    "execution": {
     "iopub.execute_input": "2022-06-28T22:34:32.622835Z",
     "iopub.status.busy": "2022-06-28T22:34:32.622225Z",
     "iopub.status.idle": "2022-06-28T22:34:32.626633Z",
     "shell.execute_reply": "2022-06-28T22:34:32.625842Z",
     "shell.execute_reply.started": "2022-06-28T22:34:32.622809Z"
    },
    "tags": []
   },
   "outputs": [],
   "source": [
    "lossFun = nn.BCEWithLogitsLoss()\n",
    "optimizer = optim.Adam(jerry_model.parameters(), lr = 0.001)"
   ]
  },
  {
   "cell_type": "markdown",
   "id": "bc4172df-e325-4842-8304-00f676111fd3",
   "metadata": {
    "tags": []
   },
   "source": [
    "### 3.3.3 Train & Evaluate"
   ]
  },
  {
   "cell_type": "code",
   "execution_count": 27,
   "id": "85953dba-0945-4f8d-b4ef-b947ea8e0f69",
   "metadata": {
    "execution": {
     "iopub.execute_input": "2022-06-28T22:34:32.627672Z",
     "iopub.status.busy": "2022-06-28T22:34:32.627366Z",
     "iopub.status.idle": "2022-06-28T22:51:50.083395Z",
     "shell.execute_reply": "2022-06-28T22:51:50.082683Z",
     "shell.execute_reply.started": "2022-06-28T22:34:32.627647Z"
    },
    "tags": []
   },
   "outputs": [
    {
     "data": {
      "application/vnd.jupyter.widget-view+json": {
       "model_id": "0f96e8dbb93e428ba0156633452c40ba",
       "version_major": 2,
       "version_minor": 0
      },
      "text/plain": [
       "  0%|          | 0/10 [00:00<?, ?it/s]"
      ]
     },
     "metadata": {},
     "output_type": "display_data"
    },
    {
     "name": "stdout",
     "output_type": "stream",
     "text": [
      "Epoch:  0\n",
      "Train loss:  0.6568315029144287\n",
      "Valid loss:  0.6587000290552775\n",
      "Train Acc:  0.9921395234586097\n",
      "Valid Acc:  0.9019189765458422\n",
      "Epoch:  1\n",
      "Train loss:  0.6506916350788541\n",
      "Valid loss:  0.6565801898638407\n",
      "Train Acc:  0.9965610415131417\n",
      "Valid Acc:  0.9019189765458422\n",
      "Epoch:  2\n",
      "Train loss:  0.6476842761039734\n",
      "Valid loss:  0.6542935570081075\n",
      "Train Acc:  0.9928764431343651\n",
      "Valid Acc:  0.9019189765458422\n",
      "Epoch:  3\n",
      "Train loss:  0.6448764801025391\n",
      "Valid loss:  0.6496100823084513\n",
      "Train Acc:  0.9938590027020389\n",
      "Valid Acc:  0.9026297085998578\n",
      "Epoch:  4\n",
      "Train loss:  0.6385629971822103\n",
      "Valid loss:  0.641680379708608\n",
      "Train Acc:  0.9923851633505282\n",
      "Valid Acc:  0.8997867803837953\n",
      "Epoch:  5\n",
      "Train loss:  0.6366277933120728\n",
      "Valid loss:  0.64426589012146\n",
      "Train Acc:  0.9923851633505282\n",
      "Valid Acc:  0.900497512437811\n",
      "Epoch:  6\n",
      "Train loss:  0.6361610492070516\n",
      "Valid loss:  0.6405168374379476\n",
      "Train Acc:  0.9960697617293048\n",
      "Valid Acc:  0.9026297085998578\n",
      "Epoch:  7\n",
      "Train loss:  0.6336281895637512\n",
      "Valid loss:  0.6288067897160848\n",
      "Train Acc:  0.995087202161631\n",
      "Valid Acc:  0.908315565031983\n",
      "Epoch:  8\n",
      "Train loss:  0.6124091015921699\n",
      "Valid loss:  0.614602287610372\n",
      "Train Acc:  0.9943502824858758\n",
      "Valid Acc:  0.908315565031983\n",
      "Epoch:  9\n",
      "Train loss:  0.6057677666346232\n",
      "Valid loss:  0.5936097105344137\n",
      "Train Acc:  0.9943502824858758\n",
      "Valid Acc:  0.9147121535181236\n"
     ]
    }
   ],
   "source": [
    "from tqdm.notebook import tqdm\n",
    "\n",
    "num_epochs = 10\n",
    "train_losses = []\n",
    "valid_losses = []\n",
    "\n",
    "for epoch in tqdm(range(num_epochs)):\n",
    "    print('Epoch: ', epoch)\n",
    "    \n",
    "    train_loss = one_pass(jerry_model, dl_train, optimizer, lossFun)\n",
    "    train_losses.append(train_loss)\n",
    "    print('Train loss: ', train_loss)\n",
    "    \n",
    "    valid_loss = one_pass(jerry_model, dl_val, optimizer, lossFun, backwards=False)\n",
    "    valid_losses.append(valid_loss)\n",
    "    print('Valid loss: ', valid_loss)\n",
    "    \n",
    "    train_acc = one_pass_acc_simple(jerry_model, dl_train, len(ds_train))\n",
    "    valid_acc = one_pass_acc_simple(jerry_model, dl_val, len(ds_val))\n",
    "    print('Train Acc: ', train_acc)\n",
    "    print('Valid Acc: ', valid_acc)"
   ]
  },
  {
   "cell_type": "code",
   "execution_count": 28,
   "id": "f10a83d3",
   "metadata": {
    "execution": {
     "iopub.execute_input": "2022-06-28T22:51:50.084678Z",
     "iopub.status.busy": "2022-06-28T22:51:50.084402Z",
     "iopub.status.idle": "2022-06-28T22:51:50.197719Z",
     "shell.execute_reply": "2022-06-28T22:51:50.197061Z",
     "shell.execute_reply.started": "2022-06-28T22:51:50.084653Z"
    },
    "tags": []
   },
   "outputs": [
    {
     "data": {
      "text/plain": [
       "[<matplotlib.lines.Line2D at 0x7fec97b81940>]"
      ]
     },
     "execution_count": 28,
     "metadata": {},
     "output_type": "execute_result"
    },
    {
     "data": {
      "image/png": "[encoded data removed]",
      "text/plain": [
       "<Figure size 432x288 with 1 Axes>"
      ]
     },
     "metadata": {
      "needs_background": "light"
     },
     "output_type": "display_data"
    }
   ],
   "source": [
    "import matplotlib.pyplot as plt\n",
    "plt.plot(train_losses)\n",
    "plt.plot(valid_losses)"
   ]
  },
  {
   "cell_type": "markdown",
   "id": "5fb3c648-3966-4849-a96d-b8d7c65e7b67",
   "metadata": {},
   "source": [
    "# 2. Multi-Class Prediction"
   ]
  },
  {
   "cell_type": "markdown",
   "id": "4dad8750-16b9-412c-80ce-fdcaa1c341e0",
   "metadata": {
    "tags": []
   },
   "source": [
    "## 2.1 Create Dataset"
   ]
  },
  {
   "cell_type": "code",
   "execution_count": 29,
   "id": "bf558119-957e-4896-a301-eef8443116d0",
   "metadata": {
    "execution": {
     "iopub.execute_input": "2022-06-28T22:51:50.199051Z",
     "iopub.status.busy": "2022-06-28T22:51:50.198693Z",
     "iopub.status.idle": "2022-06-28T22:51:50.206112Z",
     "shell.execute_reply": "2022-06-28T22:51:50.205513Z",
     "shell.execute_reply.started": "2022-06-28T22:51:50.199024Z"
    },
    "tags": []
   },
   "outputs": [],
   "source": [
    "# Dataset with resizing option\n",
    "class CombinedDataset(Dataset):\n",
    "    def __init__(self, df, data_path, resize=False):\n",
    "        self.df = df\n",
    "        self.data_path = data_path\n",
    "        self.resize = resize\n",
    "    \n",
    "    def __len__(self):\n",
    "        return len(self.df)\n",
    "    \n",
    "    def __getitem__(self, idx):\n",
    "        row = self.df.iloc[idx]\n",
    "        \n",
    "\n",
    "        image_path = row['filepath']\n",
    "        \n",
    "        # read the img\n",
    "        img = cv2.imread(image_path)\n",
    "        \n",
    "        # convert to RGB\n",
    "        img = cv2.cvtColor(img, cv2.COLOR_BGR2RGB)\n",
    "        \n",
    "        # resize image\n",
    "        if self.resize == True:\n",
    "            img = cv2.resize(img, (128, 128))\n",
    "        \n",
    "        # move color channels to correct spot\n",
    "        img = np.transpose(img, (2, 0, 1))\n",
    "        \n",
    "        # convert to [0,1] scale\n",
    "        img = torch.tensor(img / 255.).float()\n",
    "        \n",
    "        label = torch.tensor(row['label'])\n",
    "        \n",
    "        return img, label"
   ]
  },
  {
   "cell_type": "code",
   "execution_count": 30,
   "id": "22611447-c53f-4a49-aa2d-c31adbc4d623",
   "metadata": {
    "execution": {
     "iopub.execute_input": "2022-06-28T22:51:50.208216Z",
     "iopub.status.busy": "2022-06-28T22:51:50.207896Z",
     "iopub.status.idle": "2022-06-28T22:51:50.211526Z",
     "shell.execute_reply": "2022-06-28T22:51:50.210888Z",
     "shell.execute_reply.started": "2022-06-28T22:51:50.208191Z"
    },
    "tags": []
   },
   "outputs": [],
   "source": [
    "data_path = 'data/all_pics'"
   ]
  },
  {
   "cell_type": "code",
   "execution_count": 35,
   "id": "e867f25f-2122-4663-bb33-137817c36445",
   "metadata": {
    "execution": {
     "iopub.execute_input": "2022-06-28T22:53:58.122176Z",
     "iopub.status.busy": "2022-06-28T22:53:58.121802Z",
     "iopub.status.idle": "2022-06-28T22:53:58.126159Z",
     "shell.execute_reply": "2022-06-28T22:53:58.125547Z",
     "shell.execute_reply.started": "2022-06-28T22:53:58.122147Z"
    },
    "tags": []
   },
   "outputs": [],
   "source": [
    "ds_train = CombinedDataset(df_train, data_path, resize=True)\n",
    "ds_val = CombinedDataset(df_val, data_path, resize=True)\n",
    "\n",
    "dl_train = DataLoader(ds_train, batch_size=8, shuffle=True)\n",
    "dl_val = DataLoader(ds_val, batch_size=20, shuffle=False)"
   ]
  },
  {
   "cell_type": "markdown",
   "id": "47ad6812-7629-4669-876c-5fe2814bc3af",
   "metadata": {
    "tags": []
   },
   "source": [
    "## 2.2 Create Model"
   ]
  },
  {
   "cell_type": "code",
   "execution_count": 36,
   "id": "9e208f1a-9642-497d-9b90-a2dd1ba55d0b",
   "metadata": {
    "execution": {
     "iopub.execute_input": "2022-06-28T22:53:59.128331Z",
     "iopub.status.busy": "2022-06-28T22:53:59.127969Z",
     "iopub.status.idle": "2022-06-28T22:53:59.141542Z",
     "shell.execute_reply": "2022-06-28T22:53:59.140868Z",
     "shell.execute_reply.started": "2022-06-28T22:53:59.128306Z"
    },
    "tags": []
   },
   "outputs": [
    {
     "name": "stdout",
     "output_type": "stream",
     "text": [
      "----------------------------------------------------------------\n",
      "        Layer (type)               Output Shape         Param #\n",
      "================================================================\n",
      "            Conv2d-1          [-1, 8, 128, 128]             224\n",
      "              ReLU-2          [-1, 8, 128, 128]               0\n",
      "         MaxPool2d-3            [-1, 8, 64, 64]               0\n",
      "            Conv2d-4           [-1, 16, 64, 64]           1,168\n",
      "              ReLU-5           [-1, 16, 64, 64]               0\n",
      "         MaxPool2d-6           [-1, 16, 32, 32]               0\n",
      "            Conv2d-7           [-1, 32, 32, 32]           4,640\n",
      "              ReLU-8           [-1, 32, 32, 32]               0\n",
      "         MaxPool2d-9           [-1, 32, 16, 16]               0\n",
      "           Conv2d-10           [-1, 64, 16, 16]          18,496\n",
      "             ReLU-11           [-1, 64, 16, 16]               0\n",
      "        MaxPool2d-12             [-1, 64, 8, 8]               0\n",
      "          Flatten-13                 [-1, 4096]               0\n",
      "           Linear-14                  [-1, 100]         409,700\n",
      "             ReLU-15                  [-1, 100]               0\n",
      "           Linear-16                    [-1, 4]             404\n",
      "================================================================\n",
      "Total params: 434,632\n",
      "Trainable params: 434,632\n",
      "Non-trainable params: 0\n",
      "----------------------------------------------------------------\n",
      "Input size (MB): 0.19\n",
      "Forward/backward pass size (MB): 4.25\n",
      "Params size (MB): 1.66\n",
      "Estimated Total Size (MB): 6.10\n",
      "----------------------------------------------------------------\n"
     ]
    }
   ],
   "source": [
    "combined_model = Multi_CNN()\n",
    "\n",
    "from torchsummary import summary\n",
    "summary(combined_model, input_size = (3, 128, 128), device='cpu')"
   ]
  },
  {
   "cell_type": "code",
   "execution_count": 37,
   "id": "45d3c108-ea89-455d-ad6c-ad67a1c859e7",
   "metadata": {
    "execution": {
     "iopub.execute_input": "2022-06-28T22:53:59.952541Z",
     "iopub.status.busy": "2022-06-28T22:53:59.952178Z",
     "iopub.status.idle": "2022-06-28T22:53:59.955933Z",
     "shell.execute_reply": "2022-06-28T22:53:59.955388Z",
     "shell.execute_reply.started": "2022-06-28T22:53:59.952517Z"
    },
    "tags": []
   },
   "outputs": [],
   "source": [
    "lossFun = nn.CrossEntropyLoss()\n",
    "optimizer = optim.Adam(combined_model.parameters(), lr = 0.001)"
   ]
  },
  {
   "cell_type": "markdown",
   "id": "8bbff722-2834-4852-bb2f-8546a01bf466",
   "metadata": {},
   "source": [
    "## 2.3 Train & Evaluation"
   ]
  },
  {
   "cell_type": "code",
   "execution_count": 38,
   "id": "12f2fff5-2813-4e5d-85ea-e50a4424774f",
   "metadata": {
    "execution": {
     "iopub.execute_input": "2022-06-28T22:54:01.519563Z",
     "iopub.status.busy": "2022-06-28T22:54:01.519199Z",
     "iopub.status.idle": "2022-06-28T23:10:19.873251Z",
     "shell.execute_reply": "2022-06-28T23:10:19.872624Z",
     "shell.execute_reply.started": "2022-06-28T22:54:01.519539Z"
    },
    "tags": []
   },
   "outputs": [
    {
     "data": {
      "application/vnd.jupyter.widget-view+json": {
       "model_id": "28e73407cbad4c01ac645dfaf1dfe86a",
       "version_major": 2,
       "version_minor": 0
      },
      "text/plain": [
       "  0%|          | 0/10 [00:00<?, ?it/s]"
      ]
     },
     "metadata": {},
     "output_type": "display_data"
    },
    {
     "name": "stdout",
     "output_type": "stream",
     "text": [
      "Epoch:  0\n",
      "Train loss:  1.3191864001024918\n",
      "Valid loss:  1.1698431364247497\n",
      "Train Acc:  0.47433063129452224\n",
      "Valid Acc:  0.4584221748400853\n",
      "Epoch:  1\n",
      "Train loss:  1.0140687051011443\n",
      "Valid loss:  0.9470926951354658\n",
      "Train Acc:  0.6322770817980841\n",
      "Valid Acc:  0.589907604832978\n",
      "Epoch:  2\n",
      "Train loss:  0.7865922335967099\n",
      "Valid loss:  0.7927090408096851\n",
      "Train Acc:  0.7479734708916728\n",
      "Valid Acc:  0.6872778962331201\n",
      "Epoch:  3\n",
      "Train loss:  0.590767656363298\n",
      "Valid loss:  0.7315084476706007\n",
      "Train Acc:  0.8197003193318595\n",
      "Valid Acc:  0.7121535181236673\n",
      "Epoch:  4\n",
      "Train loss:  0.4530680836974286\n",
      "Valid loss:  0.6916070893196993\n",
      "Train Acc:  0.8727585359862442\n",
      "Valid Acc:  0.7327647476901209\n",
      "Epoch:  5\n",
      "Train loss:  0.35622126475884075\n",
      "Valid loss:  0.6424253834805018\n",
      "Train Acc:  0.9164824367477278\n",
      "Valid Acc:  0.7739872068230277\n",
      "Epoch:  6\n",
      "Train loss:  0.2790317717346789\n",
      "Valid loss:  0.6750255413878132\n",
      "Train Acc:  0.9287644313436502\n",
      "Valid Acc:  0.7818052594171997\n",
      "Epoch:  7\n",
      "Train loss:  0.21641270118383124\n",
      "Valid loss:  0.7391682400459975\n",
      "Train Acc:  0.9425202652910832\n",
      "Valid Acc:  0.7818052594171997\n",
      "Epoch:  8\n",
      "Train loss:  0.18369639798777437\n",
      "Valid loss:  0.8031003506670535\n",
      "Train Acc:  0.9454679439941046\n",
      "Valid Acc:  0.7825159914712153\n",
      "Epoch:  9\n",
      "Train loss:  0.14646305907073967\n",
      "Valid loss:  0.8214991600580619\n",
      "Train Acc:  0.9702775730778679\n",
      "Valid Acc:  0.8002842928216063\n"
     ]
    }
   ],
   "source": [
    "from tqdm.notebook import tqdm\n",
    "\n",
    "num_epochs = 10\n",
    "train_losses = []\n",
    "valid_losses = []\n",
    "\n",
    "for epoch in tqdm(range(num_epochs)):\n",
    "    print('Epoch: ', epoch)\n",
    "    \n",
    "    train_loss = one_pass(combined_model, dl_train, optimizer, lossFun)\n",
    "    train_losses.append(train_loss)\n",
    "    print('Train loss: ', train_loss)\n",
    "    \n",
    "    valid_loss = one_pass(combined_model, dl_val, optimizer, lossFun, backwards=False)\n",
    "    valid_losses.append(valid_loss)\n",
    "    print('Valid loss: ', valid_loss)\n",
    "    \n",
    "    train_acc = one_pass_acc_multi(combined_model, dl_train, len(ds_train))\n",
    "    valid_acc = one_pass_acc_multi(combined_model, dl_val, len(ds_val))\n",
    "    print('Train Acc: ', train_acc)\n",
    "    print('Valid Acc: ', valid_acc)"
   ]
  },
  {
   "cell_type": "code",
   "execution_count": 39,
   "id": "8c3a6b4e-e91c-48f7-99d7-9ce508e06189",
   "metadata": {
    "execution": {
     "iopub.execute_input": "2022-06-28T23:10:29.431396Z",
     "iopub.status.busy": "2022-06-28T23:10:29.431034Z",
     "iopub.status.idle": "2022-06-28T23:10:29.518548Z",
     "shell.execute_reply": "2022-06-28T23:10:29.518084Z",
     "shell.execute_reply.started": "2022-06-28T23:10:29.431371Z"
    },
    "tags": []
   },
   "outputs": [
    {
     "data": {
      "text/plain": [
       "[<matplotlib.lines.Line2D at 0x7fec96af6dc0>]"
      ]
     },
     "execution_count": 39,
     "metadata": {},
     "output_type": "execute_result"
    },
    {
     "data": {
      "image/png": "[encoded data removed]",
      "text/plain": [
       "<Figure size 432x288 with 1 Axes>"
      ]
     },
     "metadata": {
      "needs_background": "light"
     },
     "output_type": "display_data"
    }
   ],
   "source": [
    "import matplotlib.pyplot as plt\n",
    "plt.plot(train_losses)\n",
    "plt.plot(valid_losses)"
   ]
  },
  {
   "cell_type": "markdown",
   "id": "86b27bc2-d709-4e53-a154-aba1cd7711bd",
   "metadata": {},
   "source": [
    "# 3. Challenges"
   ]
  },
  {
   "cell_type": "code",
   "execution_count": 40,
   "id": "4f3944e2-ef2c-4c17-b444-efa9a425e1a1",
   "metadata": {
    "execution": {
     "iopub.execute_input": "2022-06-28T23:10:31.457272Z",
     "iopub.status.busy": "2022-06-28T23:10:31.456912Z",
     "iopub.status.idle": "2022-06-28T23:10:31.465589Z",
     "shell.execute_reply": "2022-06-28T23:10:31.464961Z",
     "shell.execute_reply.started": "2022-06-28T23:10:31.457248Z"
    }
   },
   "outputs": [
    {
     "data": {
      "text/html": [
       "<div>\n",
       "<style scoped>\n",
       "    .dataframe tbody tr th:only-of-type {\n",
       "        vertical-align: middle;\n",
       "    }\n",
       "\n",
       "    .dataframe tbody tr th {\n",
       "        vertical-align: top;\n",
       "    }\n",
       "\n",
       "    .dataframe thead th {\n",
       "        text-align: right;\n",
       "    }\n",
       "</style>\n",
       "<table border=\"1\" class=\"dataframe\">\n",
       "  <thead>\n",
       "    <tr style=\"text-align: right;\">\n",
       "      <th></th>\n",
       "      <th>folder</th>\n",
       "      <th>image_name</th>\n",
       "    </tr>\n",
       "  </thead>\n",
       "  <tbody>\n",
       "    <tr>\n",
       "      <th>0</th>\n",
       "      <td>jerry</td>\n",
       "      <td>frame360.jpg</td>\n",
       "    </tr>\n",
       "    <tr>\n",
       "      <th>1</th>\n",
       "      <td>jerry</td>\n",
       "      <td>frame1794.jpg</td>\n",
       "    </tr>\n",
       "    <tr>\n",
       "      <th>2</th>\n",
       "      <td>jerry</td>\n",
       "      <td>frame1795.jpg</td>\n",
       "    </tr>\n",
       "    <tr>\n",
       "      <th>3</th>\n",
       "      <td>jerry</td>\n",
       "      <td>frame2231.jpg</td>\n",
       "    </tr>\n",
       "    <tr>\n",
       "      <th>4</th>\n",
       "      <td>jerry</td>\n",
       "      <td>frame2234.jpg</td>\n",
       "    </tr>\n",
       "  </tbody>\n",
       "</table>\n",
       "</div>"
      ],
      "text/plain": [
       "  folder     image_name\n",
       "0  jerry   frame360.jpg\n",
       "1  jerry  frame1794.jpg\n",
       "2  jerry  frame1795.jpg\n",
       "3  jerry  frame2231.jpg\n",
       "4  jerry  frame2234.jpg"
      ]
     },
     "execution_count": 40,
     "metadata": {},
     "output_type": "execute_result"
    }
   ],
   "source": [
    "challenges = pd.read_csv('data/challenges.csv')\n",
    "challenges.head()"
   ]
  },
  {
   "cell_type": "code",
   "execution_count": 41,
   "id": "195034ca-2884-4083-a7e1-3b26d15f8178",
   "metadata": {
    "execution": {
     "iopub.execute_input": "2022-06-28T23:10:32.301696Z",
     "iopub.status.busy": "2022-06-28T23:10:32.301331Z",
     "iopub.status.idle": "2022-06-28T23:10:32.316923Z",
     "shell.execute_reply": "2022-06-28T23:10:32.316284Z",
     "shell.execute_reply.started": "2022-06-28T23:10:32.301672Z"
    }
   },
   "outputs": [
    {
     "data": {
      "text/html": [
       "<div>\n",
       "<style scoped>\n",
       "    .dataframe tbody tr th:only-of-type {\n",
       "        vertical-align: middle;\n",
       "    }\n",
       "\n",
       "    .dataframe tbody tr th {\n",
       "        vertical-align: top;\n",
       "    }\n",
       "\n",
       "    .dataframe thead th {\n",
       "        text-align: right;\n",
       "    }\n",
       "</style>\n",
       "<table border=\"1\" class=\"dataframe\">\n",
       "  <thead>\n",
       "    <tr style=\"text-align: right;\">\n",
       "      <th></th>\n",
       "      <th>folder</th>\n",
       "      <th>image_name</th>\n",
       "      <th>filepath</th>\n",
       "      <th>tom</th>\n",
       "      <th>jerry</th>\n",
       "      <th>label</th>\n",
       "    </tr>\n",
       "  </thead>\n",
       "  <tbody>\n",
       "    <tr>\n",
       "      <th>0</th>\n",
       "      <td>jerry</td>\n",
       "      <td>frame360.jpg</td>\n",
       "      <td>data/all_pics/frame360.jpg</td>\n",
       "      <td>0</td>\n",
       "      <td>1</td>\n",
       "      <td>2</td>\n",
       "    </tr>\n",
       "    <tr>\n",
       "      <th>1</th>\n",
       "      <td>jerry</td>\n",
       "      <td>frame1794.jpg</td>\n",
       "      <td>data/all_pics/frame1794.jpg</td>\n",
       "      <td>0</td>\n",
       "      <td>1</td>\n",
       "      <td>2</td>\n",
       "    </tr>\n",
       "    <tr>\n",
       "      <th>2</th>\n",
       "      <td>jerry</td>\n",
       "      <td>frame1795.jpg</td>\n",
       "      <td>data/all_pics/frame1795.jpg</td>\n",
       "      <td>0</td>\n",
       "      <td>1</td>\n",
       "      <td>2</td>\n",
       "    </tr>\n",
       "    <tr>\n",
       "      <th>3</th>\n",
       "      <td>jerry</td>\n",
       "      <td>frame2231.jpg</td>\n",
       "      <td>data/all_pics/frame2231.jpg</td>\n",
       "      <td>0</td>\n",
       "      <td>1</td>\n",
       "      <td>2</td>\n",
       "    </tr>\n",
       "    <tr>\n",
       "      <th>4</th>\n",
       "      <td>jerry</td>\n",
       "      <td>frame2234.jpg</td>\n",
       "      <td>data/all_pics/frame2234.jpg</td>\n",
       "      <td>0</td>\n",
       "      <td>1</td>\n",
       "      <td>2</td>\n",
       "    </tr>\n",
       "    <tr>\n",
       "      <th>5</th>\n",
       "      <td>jerry</td>\n",
       "      <td>frame2941.jpg</td>\n",
       "      <td>data/all_pics/frame2941.jpg</td>\n",
       "      <td>0</td>\n",
       "      <td>1</td>\n",
       "      <td>2</td>\n",
       "    </tr>\n",
       "    <tr>\n",
       "      <th>6</th>\n",
       "      <td>jerry</td>\n",
       "      <td>frame2942.jpg</td>\n",
       "      <td>data/all_pics/frame2942.jpg</td>\n",
       "      <td>0</td>\n",
       "      <td>1</td>\n",
       "      <td>2</td>\n",
       "    </tr>\n",
       "    <tr>\n",
       "      <th>7</th>\n",
       "      <td>jerry</td>\n",
       "      <td>frame2943.jpg</td>\n",
       "      <td>data/all_pics/frame2943.jpg</td>\n",
       "      <td>0</td>\n",
       "      <td>1</td>\n",
       "      <td>2</td>\n",
       "    </tr>\n",
       "    <tr>\n",
       "      <th>8</th>\n",
       "      <td>jerry</td>\n",
       "      <td>frame2944.jpg</td>\n",
       "      <td>data/all_pics/frame2944.jpg</td>\n",
       "      <td>0</td>\n",
       "      <td>1</td>\n",
       "      <td>2</td>\n",
       "    </tr>\n",
       "    <tr>\n",
       "      <th>9</th>\n",
       "      <td>jerry</td>\n",
       "      <td>frame5399.jpg</td>\n",
       "      <td>data/all_pics/frame5399.jpg</td>\n",
       "      <td>0</td>\n",
       "      <td>1</td>\n",
       "      <td>2</td>\n",
       "    </tr>\n",
       "    <tr>\n",
       "      <th>10</th>\n",
       "      <td>jerry</td>\n",
       "      <td>frame5400.jpg</td>\n",
       "      <td>data/all_pics/frame5400.jpg</td>\n",
       "      <td>0</td>\n",
       "      <td>1</td>\n",
       "      <td>2</td>\n",
       "    </tr>\n",
       "    <tr>\n",
       "      <th>11</th>\n",
       "      <td>jerry</td>\n",
       "      <td>frame5401.jpg</td>\n",
       "      <td>data/all_pics/frame5401.jpg</td>\n",
       "      <td>0</td>\n",
       "      <td>1</td>\n",
       "      <td>2</td>\n",
       "    </tr>\n",
       "    <tr>\n",
       "      <th>12</th>\n",
       "      <td>jerry</td>\n",
       "      <td>frame5408.jpg</td>\n",
       "      <td>data/all_pics/frame5408.jpg</td>\n",
       "      <td>0</td>\n",
       "      <td>1</td>\n",
       "      <td>2</td>\n",
       "    </tr>\n",
       "    <tr>\n",
       "      <th>13</th>\n",
       "      <td>jerry</td>\n",
       "      <td>frame5436.jpg</td>\n",
       "      <td>data/all_pics/frame5436.jpg</td>\n",
       "      <td>0</td>\n",
       "      <td>1</td>\n",
       "      <td>2</td>\n",
       "    </tr>\n",
       "    <tr>\n",
       "      <th>14</th>\n",
       "      <td>tom</td>\n",
       "      <td>frame46.jpg</td>\n",
       "      <td>data/all_pics/frame46.jpg</td>\n",
       "      <td>1</td>\n",
       "      <td>0</td>\n",
       "      <td>1</td>\n",
       "    </tr>\n",
       "    <tr>\n",
       "      <th>15</th>\n",
       "      <td>tom</td>\n",
       "      <td>frame715.jpg</td>\n",
       "      <td>data/all_pics/frame715.jpg</td>\n",
       "      <td>1</td>\n",
       "      <td>0</td>\n",
       "      <td>1</td>\n",
       "    </tr>\n",
       "    <tr>\n",
       "      <th>16</th>\n",
       "      <td>tom</td>\n",
       "      <td>frame1684.jpg</td>\n",
       "      <td>data/all_pics/frame1684.jpg</td>\n",
       "      <td>1</td>\n",
       "      <td>0</td>\n",
       "      <td>1</td>\n",
       "    </tr>\n",
       "    <tr>\n",
       "      <th>17</th>\n",
       "      <td>tom</td>\n",
       "      <td>frame1685.jpg</td>\n",
       "      <td>data/all_pics/frame1685.jpg</td>\n",
       "      <td>1</td>\n",
       "      <td>0</td>\n",
       "      <td>1</td>\n",
       "    </tr>\n",
       "    <tr>\n",
       "      <th>18</th>\n",
       "      <td>tom</td>\n",
       "      <td>frame1686.jpg</td>\n",
       "      <td>data/all_pics/frame1686.jpg</td>\n",
       "      <td>1</td>\n",
       "      <td>0</td>\n",
       "      <td>1</td>\n",
       "    </tr>\n",
       "    <tr>\n",
       "      <th>19</th>\n",
       "      <td>tom</td>\n",
       "      <td>frame1768.jpg</td>\n",
       "      <td>data/all_pics/frame1768.jpg</td>\n",
       "      <td>1</td>\n",
       "      <td>0</td>\n",
       "      <td>1</td>\n",
       "    </tr>\n",
       "    <tr>\n",
       "      <th>20</th>\n",
       "      <td>tom</td>\n",
       "      <td>frame2215.jpg</td>\n",
       "      <td>data/all_pics/frame2215.jpg</td>\n",
       "      <td>1</td>\n",
       "      <td>0</td>\n",
       "      <td>1</td>\n",
       "    </tr>\n",
       "    <tr>\n",
       "      <th>21</th>\n",
       "      <td>tom</td>\n",
       "      <td>frame2154.jpg</td>\n",
       "      <td>data/all_pics/frame2154.jpg</td>\n",
       "      <td>1</td>\n",
       "      <td>0</td>\n",
       "      <td>1</td>\n",
       "    </tr>\n",
       "    <tr>\n",
       "      <th>22</th>\n",
       "      <td>tom</td>\n",
       "      <td>frame2160.jpg</td>\n",
       "      <td>data/all_pics/frame2160.jpg</td>\n",
       "      <td>1</td>\n",
       "      <td>0</td>\n",
       "      <td>1</td>\n",
       "    </tr>\n",
       "    <tr>\n",
       "      <th>23</th>\n",
       "      <td>tom</td>\n",
       "      <td>frame2946.jpg</td>\n",
       "      <td>data/all_pics/frame2946.jpg</td>\n",
       "      <td>1</td>\n",
       "      <td>0</td>\n",
       "      <td>1</td>\n",
       "    </tr>\n",
       "    <tr>\n",
       "      <th>24</th>\n",
       "      <td>tom</td>\n",
       "      <td>frame2947.jpg</td>\n",
       "      <td>data/all_pics/frame2947.jpg</td>\n",
       "      <td>1</td>\n",
       "      <td>0</td>\n",
       "      <td>1</td>\n",
       "    </tr>\n",
       "    <tr>\n",
       "      <th>25</th>\n",
       "      <td>tom</td>\n",
       "      <td>frame2948.jpg</td>\n",
       "      <td>data/all_pics/frame2948.jpg</td>\n",
       "      <td>1</td>\n",
       "      <td>0</td>\n",
       "      <td>1</td>\n",
       "    </tr>\n",
       "    <tr>\n",
       "      <th>26</th>\n",
       "      <td>tom</td>\n",
       "      <td>frame2949.jpg</td>\n",
       "      <td>data/all_pics/frame2949.jpg</td>\n",
       "      <td>1</td>\n",
       "      <td>0</td>\n",
       "      <td>1</td>\n",
       "    </tr>\n",
       "    <tr>\n",
       "      <th>27</th>\n",
       "      <td>tom</td>\n",
       "      <td>frame2950.jpg</td>\n",
       "      <td>data/all_pics/frame2950.jpg</td>\n",
       "      <td>1</td>\n",
       "      <td>0</td>\n",
       "      <td>1</td>\n",
       "    </tr>\n",
       "    <tr>\n",
       "      <th>28</th>\n",
       "      <td>tom</td>\n",
       "      <td>frame2951.jpg</td>\n",
       "      <td>data/all_pics/frame2951.jpg</td>\n",
       "      <td>1</td>\n",
       "      <td>0</td>\n",
       "      <td>1</td>\n",
       "    </tr>\n",
       "    <tr>\n",
       "      <th>29</th>\n",
       "      <td>tom</td>\n",
       "      <td>frame4579.jpg</td>\n",
       "      <td>data/all_pics/frame4579.jpg</td>\n",
       "      <td>1</td>\n",
       "      <td>0</td>\n",
       "      <td>1</td>\n",
       "    </tr>\n",
       "    <tr>\n",
       "      <th>30</th>\n",
       "      <td>tom</td>\n",
       "      <td>frame4580.jpg</td>\n",
       "      <td>data/all_pics/frame4580.jpg</td>\n",
       "      <td>1</td>\n",
       "      <td>0</td>\n",
       "      <td>1</td>\n",
       "    </tr>\n",
       "    <tr>\n",
       "      <th>31</th>\n",
       "      <td>tom</td>\n",
       "      <td>frame4581.jpg</td>\n",
       "      <td>data/all_pics/frame4581.jpg</td>\n",
       "      <td>1</td>\n",
       "      <td>0</td>\n",
       "      <td>1</td>\n",
       "    </tr>\n",
       "  </tbody>\n",
       "</table>\n",
       "</div>"
      ],
      "text/plain": [
       "   folder     image_name                     filepath  tom  jerry  label\n",
       "0   jerry   frame360.jpg   data/all_pics/frame360.jpg    0      1      2\n",
       "1   jerry  frame1794.jpg  data/all_pics/frame1794.jpg    0      1      2\n",
       "2   jerry  frame1795.jpg  data/all_pics/frame1795.jpg    0      1      2\n",
       "3   jerry  frame2231.jpg  data/all_pics/frame2231.jpg    0      1      2\n",
       "4   jerry  frame2234.jpg  data/all_pics/frame2234.jpg    0      1      2\n",
       "5   jerry  frame2941.jpg  data/all_pics/frame2941.jpg    0      1      2\n",
       "6   jerry  frame2942.jpg  data/all_pics/frame2942.jpg    0      1      2\n",
       "7   jerry  frame2943.jpg  data/all_pics/frame2943.jpg    0      1      2\n",
       "8   jerry  frame2944.jpg  data/all_pics/frame2944.jpg    0      1      2\n",
       "9   jerry  frame5399.jpg  data/all_pics/frame5399.jpg    0      1      2\n",
       "10  jerry  frame5400.jpg  data/all_pics/frame5400.jpg    0      1      2\n",
       "11  jerry  frame5401.jpg  data/all_pics/frame5401.jpg    0      1      2\n",
       "12  jerry  frame5408.jpg  data/all_pics/frame5408.jpg    0      1      2\n",
       "13  jerry  frame5436.jpg  data/all_pics/frame5436.jpg    0      1      2\n",
       "14    tom    frame46.jpg    data/all_pics/frame46.jpg    1      0      1\n",
       "15    tom   frame715.jpg   data/all_pics/frame715.jpg    1      0      1\n",
       "16    tom  frame1684.jpg  data/all_pics/frame1684.jpg    1      0      1\n",
       "17    tom  frame1685.jpg  data/all_pics/frame1685.jpg    1      0      1\n",
       "18    tom  frame1686.jpg  data/all_pics/frame1686.jpg    1      0      1\n",
       "19    tom  frame1768.jpg  data/all_pics/frame1768.jpg    1      0      1\n",
       "20    tom  frame2215.jpg  data/all_pics/frame2215.jpg    1      0      1\n",
       "21    tom  frame2154.jpg  data/all_pics/frame2154.jpg    1      0      1\n",
       "22    tom  frame2160.jpg  data/all_pics/frame2160.jpg    1      0      1\n",
       "23    tom  frame2946.jpg  data/all_pics/frame2946.jpg    1      0      1\n",
       "24    tom  frame2947.jpg  data/all_pics/frame2947.jpg    1      0      1\n",
       "25    tom  frame2948.jpg  data/all_pics/frame2948.jpg    1      0      1\n",
       "26    tom  frame2949.jpg  data/all_pics/frame2949.jpg    1      0      1\n",
       "27    tom  frame2950.jpg  data/all_pics/frame2950.jpg    1      0      1\n",
       "28    tom  frame2951.jpg  data/all_pics/frame2951.jpg    1      0      1\n",
       "29    tom  frame4579.jpg  data/all_pics/frame4579.jpg    1      0      1\n",
       "30    tom  frame4580.jpg  data/all_pics/frame4580.jpg    1      0      1\n",
       "31    tom  frame4581.jpg  data/all_pics/frame4581.jpg    1      0      1"
      ]
     },
     "execution_count": 41,
     "metadata": {},
     "output_type": "execute_result"
    }
   ],
   "source": [
    "challenges['filepath'] = 'data/all_pics/' + challenges['image_name']\n",
    "label = []\n",
    "tom = []\n",
    "jerry = []\n",
    "for i in range(len(challenges)):\n",
    "    if challenges.iloc[i].folder == 'tom':\n",
    "        tom.append(1)\n",
    "        jerry.append(0)\n",
    "        label.append(1)\n",
    "    else:\n",
    "        tom.append(0)\n",
    "        jerry.append(1)\n",
    "        label.append(2)\n",
    "challenges['tom'] = tom\n",
    "challenges['jerry'] = jerry\n",
    "challenges['label'] = label\n",
    "challenges"
   ]
  },
  {
   "cell_type": "code",
   "execution_count": 42,
   "id": "e92264b8-afd3-4e59-8435-d051cec5bb28",
   "metadata": {
    "execution": {
     "iopub.execute_input": "2022-06-28T23:10:33.790893Z",
     "iopub.status.busy": "2022-06-28T23:10:33.790510Z",
     "iopub.status.idle": "2022-06-28T23:10:33.794048Z",
     "shell.execute_reply": "2022-06-28T23:10:33.793382Z",
     "shell.execute_reply.started": "2022-06-28T23:10:33.790866Z"
    }
   },
   "outputs": [],
   "source": [
    "data_path = 'data/all_pics'"
   ]
  },
  {
   "cell_type": "markdown",
   "id": "56d820ad-3ae0-4d7d-b215-45ddce15cabf",
   "metadata": {},
   "source": [
    "## 3.1 Tom"
   ]
  },
  {
   "cell_type": "code",
   "execution_count": 43,
   "id": "8820c424-ea9b-4a6a-87af-0b177cd64825",
   "metadata": {
    "execution": {
     "iopub.execute_input": "2022-06-28T23:10:45.111546Z",
     "iopub.status.busy": "2022-06-28T23:10:45.111173Z",
     "iopub.status.idle": "2022-06-28T23:10:45.114913Z",
     "shell.execute_reply": "2022-06-28T23:10:45.114377Z",
     "shell.execute_reply.started": "2022-06-28T23:10:45.111523Z"
    }
   },
   "outputs": [],
   "source": [
    "ds_tom = TomDataset(challenges, data_path, resize=True)\n",
    "dl_tom = DataLoader(ds_tom, batch_size=500, shuffle=False)"
   ]
  },
  {
   "cell_type": "code",
   "execution_count": 44,
   "id": "a228a552-0f3c-49d2-8bff-ec33c1ad706c",
   "metadata": {
    "execution": {
     "iopub.execute_input": "2022-06-28T23:10:46.142891Z",
     "iopub.status.busy": "2022-06-28T23:10:46.142486Z",
     "iopub.status.idle": "2022-06-28T23:10:46.421986Z",
     "shell.execute_reply": "2022-06-28T23:10:46.421285Z",
     "shell.execute_reply.started": "2022-06-28T23:10:46.142862Z"
    }
   },
   "outputs": [
    {
     "data": {
      "text/plain": [
       "0.75"
      ]
     },
     "execution_count": 44,
     "metadata": {},
     "output_type": "execute_result"
    }
   ],
   "source": [
    "one_pass_acc_simple(tom_model, dl_tom, len(ds_tom))"
   ]
  },
  {
   "cell_type": "markdown",
   "id": "20ad9646-fbe4-416a-89ec-f48d0fedf070",
   "metadata": {},
   "source": [
    "## 3.2 Jerry"
   ]
  },
  {
   "cell_type": "code",
   "execution_count": 45,
   "id": "ce50a157-96f5-4c37-b44b-42eae20f87a5",
   "metadata": {
    "execution": {
     "iopub.execute_input": "2022-06-28T23:10:47.839225Z",
     "iopub.status.busy": "2022-06-28T23:10:47.838848Z",
     "iopub.status.idle": "2022-06-28T23:10:47.842811Z",
     "shell.execute_reply": "2022-06-28T23:10:47.842247Z",
     "shell.execute_reply.started": "2022-06-28T23:10:47.839201Z"
    }
   },
   "outputs": [],
   "source": [
    "ds_jerry = JerryDataset(challenges, data_path, resize=True)\n",
    "dl_jerry = DataLoader(ds_jerry, batch_size=500, shuffle=False)"
   ]
  },
  {
   "cell_type": "code",
   "execution_count": 46,
   "id": "d81606b0-e9c6-4f5d-9b12-2c3183598137",
   "metadata": {
    "execution": {
     "iopub.execute_input": "2022-06-28T23:10:48.351102Z",
     "iopub.status.busy": "2022-06-28T23:10:48.350738Z",
     "iopub.status.idle": "2022-06-28T23:10:48.594502Z",
     "shell.execute_reply": "2022-06-28T23:10:48.593878Z",
     "shell.execute_reply.started": "2022-06-28T23:10:48.351078Z"
    }
   },
   "outputs": [
    {
     "data": {
      "text/plain": [
       "0.65625"
      ]
     },
     "execution_count": 46,
     "metadata": {},
     "output_type": "execute_result"
    }
   ],
   "source": [
    "one_pass_acc_simple(jerry_model, dl_jerry, len(ds_jerry))"
   ]
  },
  {
   "cell_type": "markdown",
   "id": "91fcf58a-225a-4a80-a269-482943f45d8a",
   "metadata": {},
   "source": [
    "## 3.3 Combined"
   ]
  },
  {
   "cell_type": "code",
   "execution_count": 47,
   "id": "982f7bfd-b9b9-4d81-8152-fa59c0cef641",
   "metadata": {
    "execution": {
     "iopub.execute_input": "2022-06-28T23:10:49.792958Z",
     "iopub.status.busy": "2022-06-28T23:10:49.792591Z",
     "iopub.status.idle": "2022-06-28T23:10:49.796286Z",
     "shell.execute_reply": "2022-06-28T23:10:49.795748Z",
     "shell.execute_reply.started": "2022-06-28T23:10:49.792933Z"
    }
   },
   "outputs": [],
   "source": [
    "ds_combined = CombinedDataset(challenges, data_path, resize=True)\n",
    "dl_combined = DataLoader(ds_combined, batch_size=500, shuffle=False)"
   ]
  },
  {
   "cell_type": "code",
   "execution_count": 49,
   "id": "5657ca31-3b9c-40f4-8b97-88964eeea86d",
   "metadata": {
    "execution": {
     "iopub.execute_input": "2022-06-28T23:12:02.346326Z",
     "iopub.status.busy": "2022-06-28T23:12:02.345956Z",
     "iopub.status.idle": "2022-06-28T23:12:02.580392Z",
     "shell.execute_reply": "2022-06-28T23:12:02.579779Z",
     "shell.execute_reply.started": "2022-06-28T23:12:02.346301Z"
    },
    "tags": []
   },
   "outputs": [
    {
     "data": {
      "text/plain": [
       "1.0"
      ]
     },
     "execution_count": 49,
     "metadata": {},
     "output_type": "execute_result"
    }
   ],
   "source": [
    "one_pass_acc_multi(combined_model, dl_combined, len(ds_combined))"
   ]
  },
  {
   "cell_type": "code",
   "execution_count": null,
   "id": "97cd5e26-5f62-49cc-8f7e-ca78a51c81b8",
   "metadata": {},
   "outputs": [],
   "source": []
  }
 ],
 "metadata": {
  "kernelspec": {
   "display_name": "saturn (Python 3)",
   "language": "python",
   "name": "python3"
  },
  "language_info": {
   "codemirror_mode": {
    "name": "ipython",
    "version": 3
   },
   "file_extension": ".py",
   "mimetype": "text/x-python",
   "name": "python",
   "nbconvert_exporter": "python",
   "pygments_lexer": "ipython3",
   "version": "3.9.12"
  }
 },
 "nbformat": 4,
 "nbformat_minor": 5
}
